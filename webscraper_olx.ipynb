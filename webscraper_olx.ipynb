{
 "cells": [
  {
   "cell_type": "markdown",
   "metadata": {},
   "source": [
    "### Setup"
   ]
  },
  {
   "cell_type": "code",
   "execution_count": 55,
   "metadata": {},
   "outputs": [],
   "source": [
    "import requests\n",
    "from bs4 import BeautifulSoup"
   ]
  },
  {
   "cell_type": "code",
   "execution_count": 57,
   "metadata": {},
   "outputs": [],
   "source": [
    "headers = {'User-Agent': 'Mozilla/5.0 (Macintosh; Intel Mac OS X 10_11_5) AppleWebKit/537.36 (KHTML, like Gecko) Chrome/50.0.2661.102 Safari/537.36'}\n",
    "base_site = \"https://pb.olx.com.br/paraiba/joao-pessoa/imoveis/venda\""
   ]
  },
  {
   "cell_type": "code",
   "execution_count": 138,
   "metadata": {},
   "outputs": [
    {
     "data": {
      "text/plain": [
       "<Response [200]>"
      ]
     },
     "execution_count": 138,
     "metadata": {},
     "output_type": "execute_result"
    }
   ],
   "source": [
    "response = requests.get(base_site, headers=headers)\n",
    "response"
   ]
  },
  {
   "cell_type": "code",
   "execution_count": 139,
   "metadata": {},
   "outputs": [],
   "source": [
    "html = response.content"
   ]
  },
  {
   "cell_type": "markdown",
   "metadata": {},
   "source": [
    "### Choosing a parser"
   ]
  },
  {
   "cell_type": "code",
   "execution_count": 140,
   "metadata": {},
   "outputs": [],
   "source": [
    "soup = BeautifulSoup(html, 'lxml')"
   ]
  },
  {
   "cell_type": "markdown",
   "metadata": {},
   "source": [
    "### Obtain the links of announcements"
   ]
  },
  {
   "cell_type": "code",
   "execution_count": 141,
   "metadata": {},
   "outputs": [
    {
     "data": {
      "text/plain": [
       "['https://pb.olx.com.br/paraiba/imoveis/repasso-apartamento-no-jose-americo-3-quartos-736968875',\n",
       " 'https://pb.olx.com.br/paraiba/imoveis/repasse-do-apartamento-736966729',\n",
       " 'https://pb.olx.com.br/paraiba/imoveis/cod-1184-apartamento-manaia-545692972',\n",
       " 'https://pb.olx.com.br/paraiba/imoveis/mega-lancamento-no-altiplano-na-principal-736964668',\n",
       " 'https://pb.olx.com.br/paraiba/imoveis/apartamento-2-quartos-no-jardim-luna-685299695',\n",
       " 'https://pb.olx.com.br/paraiba/imoveis/belissimo-apartamento-a-300-metros-da-orla-da-praia-do-cabo-branco-736962591',\n",
       " 'https://pb.olx.com.br/paraiba/imoveis/oportunidade-apartamento-no-castelo-branco-736961683',\n",
       " 'https://pb.olx.com.br/paraiba/imoveis/em-mangabeira-terreo-de-tras-quintal-em-u-ja-avaliado-caixa-736961352',\n",
       " 'https://pb.olx.com.br/paraiba/imoveis/apartamento-no-bancarios-158mil-711073559',\n",
       " 'https://pb.olx.com.br/paraiba/imoveis/apartamento-02-quartos-com-acabamento-diferenciado-com-varanda-gourmet-736959492',\n",
       " 'https://pb.olx.com.br/paraiba/imoveis/apartamento-2-quartos-na-praia-do-poco-a-300-metros-do-mar-736959461',\n",
       " 'https://pb.olx.com.br/paraiba/imoveis/apartamento-4-suites-1-por-andar-212-m2-ambientado-em-miramar-707387210',\n",
       " 'https://pb.olx.com.br/paraiba/imoveis/lancamento-no-bairro-do-altiplano-com-acabamento-diferenciado-705804398',\n",
       " 'https://pb.olx.com.br/paraiba/imoveis/oportunidade-excelente-apartamento-no-altiplano-edf-aquamare-vista-para-o-mar-736957756',\n",
       " 'https://pb.olx.com.br/paraiba/imoveis/firenze-miramar-94m-3-qts-sendo-1-ste-dce-sul-reformado-736957505',\n",
       " 'https://pb.olx.com.br/paraiba/imoveis/para-vender-rapido-apartamento-2-quartos-dce-oportunidade-unica-no-adelaide-holanda-584949622',\n",
       " 'https://pb.olx.com.br/paraiba/imoveis/oportunidade-vili-design-residence-736956958',\n",
       " 'https://pb.olx.com.br/paraiba/imoveis/uma-otima-oportunidade-735971479',\n",
       " 'https://pb.olx.com.br/paraiba/imoveis/casas-na-principal-da-perimetral-sul-736955792',\n",
       " 'https://pb.olx.com.br/paraiba/imoveis/flat-manaira-735970297',\n",
       " 'https://pb.olx.com.br/paraiba/imoveis/apartamento-para-venda-no-bessa-contendo-02-quartos-735640666',\n",
       " 'https://pb.olx.com.br/paraiba/imoveis/vendo-apto-02-qtos-s-01-suite-53-m2-portal-do-sol-quadramares-736954302',\n",
       " 'https://pb.olx.com.br/paraiba/imoveis/apartamento-a-venda-com-2-dormitorios-em-brisamar-joao-pessoa-cod-v392-648785420',\n",
       " 'https://pb.olx.com.br/paraiba/imoveis/sua-moradia-seu-lar-736953106',\n",
       " 'https://pb.olx.com.br/paraiba/imoveis/palazzo-di-chambord-jardim-oceania-128-m-03-qtos-s-02-stes-dce-ambientado-736952695',\n",
       " 'https://pb.olx.com.br/paraiba/imoveis/atencao-excelente-apto-sentido-praia-de-jacuma-com-piscina-e-muito-mais-736951117',\n",
       " 'https://pb.olx.com.br/paraiba/imoveis/repasse-de-apartamento-no-valentina-rua-do-city-parque-736950968',\n",
       " 'https://pb.olx.com.br/paraiba/imoveis/makarioi-manaira-180-m-04-qtos-s-02-stes-dce-02-vgs-andar-intermediario-736950272',\n",
       " 'https://pb.olx.com.br/paraiba/imoveis/oportunidade-no-melhor-do-bessa-659796485',\n",
       " 'https://pb.olx.com.br/paraiba/imoveis/residencial-maria-evanise-de-2-quartos-no-jardim-luna-483936336',\n",
       " 'https://pb.olx.com.br/paraiba/imoveis/apartamento-proximo-ao-retao-de-manaira-3quartos-amplos-excelentes-404035426',\n",
       " 'https://pb.olx.com.br/paraiba/imoveis/excelente-tambau-l-nasc-21-andar-4s-dce-3vg-127m-664928246',\n",
       " 'https://pb.olx.com.br/paraiba/imoveis/apartamento-no-bessa-2-quartos-com-piscina-e-salao-e-churrasqueira-736943047',\n",
       " 'https://pb.olx.com.br/paraiba/imoveis/oportunidade-apartamento-no-alto-do-mateus-cod-1167-736942678',\n",
       " 'https://pb.olx.com.br/paraiba/imoveis/apartamento-158-000-nos-bancarios-681007768',\n",
       " 'https://pb.olx.com.br/paraiba/imoveis/apto-no-bairro-dos-estados-3-quartos-2-vagas-de-garagem-piscinas-e-elevadores-721565471',\n",
       " 'https://pb.olx.com.br/paraiba/imoveis/apartamento-no-bessa-perto-da-praia-2-e-3-quartos-oportunidade-571427593',\n",
       " 'https://pb.olx.com.br/paraiba/imoveis/apto-2-quartos-condominio-clube-bairro-dos-estados-van-gogh-637109389',\n",
       " 'https://pb.olx.com.br/paraiba/imoveis/apartamento-com-2-ou-3-quartos-no-valentina-com-area-de-lazer-735936890',\n",
       " 'https://pb.olx.com.br/paraiba/imoveis/spazio-di-napoli-apartamento-em-tambauzinho-657603963',\n",
       " 'https://pb.olx.com.br/paraiba/imoveis/maravilho-apto-3-qrts-2-suites-jardim-oceania-praia-do-bessa-ao-lado-do-park-paraiba-721317945',\n",
       " 'https://pb.olx.com.br/paraiba/imoveis/excelente-apt-2-quartos-mobiliado-em-tambau-frente-mar-predio-de-luxo-720408082',\n",
       " 'https://pb.olx.com.br/paraiba/imoveis/codigo-01-04-excelente-apartamento-com-02-quartos-bairro-dos-estados-j-pessoa-pb-587449448',\n",
       " 'https://pb.olx.com.br/paraiba/imoveis/apartamento-com-3-dormitorios-sendo-1-suite-venda-84-m-por-r-670-000-cabo-branco-731364705',\n",
       " 'https://pb.olx.com.br/paraiba/imoveis/nova-oferta--apto-belissimo-2-quartos-e-1-st-em-manaira-530682071',\n",
       " 'https://pb.olx.com.br/paraiba/imoveis/exclusivo--casa-incrivel-c-4-quartos-1-st-na-praia-de-camboinha-525443889',\n",
       " 'https://pb.olx.com.br/paraiba/imoveis/apto-no-joao-paulo-ii-cod-1231-736923072',\n",
       " 'https://pb.olx.com.br/paraiba/imoveis/casa-de-1-andar-3-quartos-mangabeira-699813169',\n",
       " 'https://pb.olx.com.br/paraiba/imoveis/apartamento-a-venda-no-joao-paulo-687589244',\n",
       " 'https://pb.olx.com.br/paraiba/imoveis/apartamento-com-2-quartos-no-colibris-terreo-com-area-privativa-592943985']"
      ]
     },
     "execution_count": 141,
     "metadata": {},
     "output_type": "execute_result"
    }
   ],
   "source": [
    "links = soup.find_all(attrs={'data-lurker-detail': 'list_id'})\n",
    "links_announce = [link[\"href\"] for link in links]\n",
    "links_announce"
   ]
  },
  {
   "cell_type": "markdown",
   "metadata": {},
   "source": [
    "### Go inside announce and get data"
   ]
  },
  {
   "cell_type": "code",
   "execution_count": 74,
   "metadata": {},
   "outputs": [],
   "source": [
    "prices = []\n",
    "addresses = []"
   ]
  },
  {
   "cell_type": "code",
   "execution_count": 143,
   "metadata": {},
   "outputs": [
    {
     "name": "stdout",
     "output_type": "stream",
     "text": [
      "R$ 29.000 true\n",
      " Rua Chico Xavier\n",
      "R$ 1.350.000 58038000\n",
      "R$ 179.000 Avenida João Maurício - até 1766/1767\n",
      "R$ 350.000 Rua Jornalista Ulisses de Oliveira\n",
      "R$ 395.000 Rua Juiz Amaro Bezerra\n",
      "R$ 155.000 Avenida Presidente Castelo Branco\n",
      "R$ 135.000 Rua Francisco Virgínio Simão\n",
      "R$ 158.000 Rua Empresário João Rodrigues Alves\n",
      "R$ 190.000 58036000\n",
      "R$ 120.000 Rua Golfo de Honduras\n",
      "R$ 1.200.000 Rua Ovídio Mendonça\n",
      "R$ 246.000 Rua Helena Freire\n",
      "R$ 580.000 Rua Desembargador Rivaldo Pereira\n",
      "R$ 290.000 Rua das Acácias\n",
      "R$ 265.100 Rua Giacomo Porto\n",
      "R$ 420.000 Rua Tabelião José Ramalho Leite\n",
      " Rua Ana Espínola Navarro\n",
      "R$ 360.000 Rua Doutor Valdevino Gregório de Andrade\n",
      "R$ 250.000 Rua Gumercindo Cabral de Lucena\n",
      "R$ 170.000 58036300\n",
      "R$ 159.900 Rua Aluísio Bezerra da Silva (Lot Q Mares II)\n",
      "R$ 491.277 Rua João Vieira Carneiro\n",
      "R$ 335.000 Rua Ozório Queiroga de Assis\n",
      "R$ 599.900 Rua Poeta Luiz Raimundo Batista de Carvalho\n",
      "R$ 110.000 Conjunto Valentina Figueiredo\n",
      "R$ 20.000 Rua Professora Cristina Di Lorenzo Marsicano\n",
      "R$ 490.000 Avenida Ingá - até 587/588\n",
      "R$ 335.000 Rua Antônio Jovino de Lima\n",
      "R$ 310.000 Praça Jardim Luna\n",
      "R$ 320.000 Rua Sílvio Coelho de Alverga\n",
      "R$ 755.000 Avenida Nego - até 405/406\n",
      "R$ 180.000 Rua Fernando Luiz Henriques dos Santos - até 1415/1416\n",
      "R$ 110.000 Rua José Nóbrega Barbosa\n",
      "R$ 158.000 Rua Adalberto da Silva Brandão\n",
      "R$ 270.000 Rua Irmã Elvira Malagute\n",
      "R$ 229.000 Avenida Presidente Afonso Pena\n",
      "R$ 330.000 Avenida Alagoas\n",
      "R$ 119.900 Rua Telegrafista Chateubriand Brasil Filho\n",
      "R$ 198.000 58033450\n",
      "R$ 459.000 Avenida Campos Sales\n",
      "R$ 500.000 Avenida Antônio Lira - até 765/766\n",
      "R$ 345.000 Avenida Mato Grosso - até 1039/1040\n",
      "R$ 700.000 Avenida Índio Arabutan\n",
      "R$ 210.000 Avenida Governador Flávio Ribeiro Coutinho\n",
      "R$ 380.000 Rua Severino Montenegro\n",
      "R$ 130.000 Rua Valdemar Naziazeno\n",
      "R$ 180.000 Rua Estudante Érico Marcos Veloso\n",
      "R$ 120.000 Rua Engenheiro João Batista de Lima Brandão\n",
      "R$ 140.000 Avenida Hilton Souto Maior - de 1/2 a 99997/99998\n"
     ]
    }
   ],
   "source": [
    "for link_announce in links_announce:\n",
    "    announce = requests.get(link_announce, headers=headers)\n",
    "    if announce.status_code != 200:\n",
    "        print('Status code {0}: Skipping URL #{1}'.format(announce.status_code, link_announce))\n",
    "        continue\n",
    "    announce_html = announce.content\n",
    "    announce_soup = BeautifulSoup(announce_html, 'lxml')\n",
    "\n",
    "    price = announce_soup.find(\"h2\").text\n",
    "    address_check = announce_soup.find(\"dt\", string=\"Logradouro\") or announce_soup.find(\"dt\", string=\"CEP\")\n",
    "    address = address_check.next_sibling.text\n",
    "    print(price, address)"
   ]
  },
  {
   "cell_type": "code",
   "execution_count": null,
   "metadata": {},
   "outputs": [],
   "source": []
  }
 ],
 "metadata": {
  "kernelspec": {
   "display_name": "Python 3",
   "language": "python",
   "name": "python3"
  },
  "language_info": {
   "codemirror_mode": {
    "name": "ipython",
    "version": 3
   },
   "file_extension": ".py",
   "mimetype": "text/x-python",
   "name": "python",
   "nbconvert_exporter": "python",
   "pygments_lexer": "ipython3",
   "version": "3.7.6"
  }
 },
 "nbformat": 4,
 "nbformat_minor": 4
}
